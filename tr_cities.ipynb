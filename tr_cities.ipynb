{
 "metadata": {
  "language_info": {
   "codemirror_mode": {
    "name": "ipython",
    "version": 3
   },
   "file_extension": ".py",
   "mimetype": "text/x-python",
   "name": "python",
   "nbconvert_exporter": "python",
   "pygments_lexer": "ipython3",
   "version": "3.9.1-final"
  },
  "orig_nbformat": 2,
  "kernelspec": {
   "name": "python3",
   "display_name": "Python 3.9.1 64-bit",
   "metadata": {
    "interpreter": {
     "hash": "83ecd6dc32c64ae4ef0d943d1c921fb6784ad71dc115fdf89c6c8a8713e68c00"
    }
   }
  }
 },
 "nbformat": 4,
 "nbformat_minor": 2,
 "cells": [
  {
   "cell_type": "code",
   "execution_count": 9,
   "metadata": {},
   "outputs": [
    {
     "output_type": "execute_result",
     "data": {
      "text/plain": [
       "<folium.folium.Map at 0x2023dd198e0>"
      ],
      "text/html": "<div style=\"width:100%;\"><div style=\"position:relative;width:100%;height:0;padding-bottom:60%;\"><span style=\"color:#565656\">Make this Notebook Trusted to load map: File -> Trust Notebook</span><iframe src=\"about:blank\" style=\"position:absolute;width:100%;height:100%;left:0;top:0;border:none !important;\" data-html=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 onload=\"this.contentDocument.open();this.contentDocument.write(atob(this.getAttribute('data-html')));this.contentDocument.close();\" allowfullscreen webkitallowfullscreen mozallowfullscreen></iframe></div></div>"
     },
     "metadata": {},
     "execution_count": 9
    }
   ],
   "source": [
    "import folium\n",
    "world_map = folium.Map()\n",
    "\n",
    "# Top three smart phone companies by market share in 2016\n",
    "cities = [\n",
    "    {'loc': [40.9970,  28.8166], 'label': 'İstanbul'},\n",
    "    {'loc': [37.8518,  32.4911], 'label': 'Konya'},\n",
    "    {'loc': [40.5431,  40.0579], 'label': 'Huawei: 8.9%'}] \n",
    "\n",
    "# Adding markers to the map\n",
    "for city in cities:\n",
    "    marker = folium.Marker(location=city['loc'], popup=city['label'])\n",
    "    marker.add_to(world_map)\n",
    "\n",
    "# The last object in the cell always gets shown in the notebook\n",
    "world_map"
   ]
  },
  {
   "cell_type": "code",
   "execution_count": null,
   "metadata": {},
   "outputs": [],
   "source": []
  }
 ]
}
